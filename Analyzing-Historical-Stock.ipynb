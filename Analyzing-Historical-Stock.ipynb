{
 "cells": [
  {
   "cell_type": "markdown",
   "id": "e8794e10",
   "metadata": {},
   "source": [
    "# Peer-graded Assignment: Analyzing Historical Stock/Revenue Data and Building a Dashboard\n",
    "\n",
    "# Mahdieh Sajadi"
   ]
  },
  {
   "cell_type": "code",
   "execution_count": 32,
   "id": "1c15e8a3",
   "metadata": {},
   "outputs": [],
   "source": [
    "# import libraries\n",
    "\n",
    "import yfinance as yf\n",
    "import pandas as pd\n",
    "import requests\n",
    "from bs4 import BeautifulSoup\n",
    "import plotly.graph_objects as go\n",
    "from plotly.subplots import make_subplots\n",
    "\n",
    "import plotly.io as pio\n",
    "pio.renderers.default = \"iframe\"\n",
    "\n",
    "import warnings\n",
    "# Ignore all warnings\n",
    "warnings.filterwarnings(\"ignore\", category=FutureWarning)"
   ]
  },
  {
   "cell_type": "markdown",
   "id": "47624cf2",
   "metadata": {},
   "source": [
    "# Question 1 - Extracting Tesla Stock Data Using yfinance - 2 Points\n"
   ]
  },
  {
   "cell_type": "code",
   "execution_count": 33,
   "id": "834e718d",
   "metadata": {},
   "outputs": [
    {
     "data": {
      "text/html": [
       "<div>\n",
       "<style scoped>\n",
       "    .dataframe tbody tr th:only-of-type {\n",
       "        vertical-align: middle;\n",
       "    }\n",
       "\n",
       "    .dataframe tbody tr th {\n",
       "        vertical-align: top;\n",
       "    }\n",
       "\n",
       "    .dataframe thead th {\n",
       "        text-align: right;\n",
       "    }\n",
       "</style>\n",
       "<table border=\"1\" class=\"dataframe\">\n",
       "  <thead>\n",
       "    <tr style=\"text-align: right;\">\n",
       "      <th></th>\n",
       "      <th>Date</th>\n",
       "      <th>Open</th>\n",
       "      <th>High</th>\n",
       "      <th>Low</th>\n",
       "      <th>Close</th>\n",
       "      <th>Volume</th>\n",
       "      <th>Dividends</th>\n",
       "      <th>Stock Splits</th>\n",
       "    </tr>\n",
       "  </thead>\n",
       "  <tbody>\n",
       "    <tr>\n",
       "      <th>0</th>\n",
       "      <td>2010-06-29 00:00:00-04:00</td>\n",
       "      <td>1.266667</td>\n",
       "      <td>1.666667</td>\n",
       "      <td>1.169333</td>\n",
       "      <td>1.592667</td>\n",
       "      <td>281494500</td>\n",
       "      <td>0.0</td>\n",
       "      <td>0.0</td>\n",
       "    </tr>\n",
       "    <tr>\n",
       "      <th>1</th>\n",
       "      <td>2010-06-30 00:00:00-04:00</td>\n",
       "      <td>1.719333</td>\n",
       "      <td>2.028000</td>\n",
       "      <td>1.553333</td>\n",
       "      <td>1.588667</td>\n",
       "      <td>257806500</td>\n",
       "      <td>0.0</td>\n",
       "      <td>0.0</td>\n",
       "    </tr>\n",
       "    <tr>\n",
       "      <th>2</th>\n",
       "      <td>2010-07-01 00:00:00-04:00</td>\n",
       "      <td>1.666667</td>\n",
       "      <td>1.728000</td>\n",
       "      <td>1.351333</td>\n",
       "      <td>1.464000</td>\n",
       "      <td>123282000</td>\n",
       "      <td>0.0</td>\n",
       "      <td>0.0</td>\n",
       "    </tr>\n",
       "    <tr>\n",
       "      <th>3</th>\n",
       "      <td>2010-07-02 00:00:00-04:00</td>\n",
       "      <td>1.533333</td>\n",
       "      <td>1.540000</td>\n",
       "      <td>1.247333</td>\n",
       "      <td>1.280000</td>\n",
       "      <td>77097000</td>\n",
       "      <td>0.0</td>\n",
       "      <td>0.0</td>\n",
       "    </tr>\n",
       "    <tr>\n",
       "      <th>4</th>\n",
       "      <td>2010-07-06 00:00:00-04:00</td>\n",
       "      <td>1.333333</td>\n",
       "      <td>1.333333</td>\n",
       "      <td>1.055333</td>\n",
       "      <td>1.074000</td>\n",
       "      <td>103003500</td>\n",
       "      <td>0.0</td>\n",
       "      <td>0.0</td>\n",
       "    </tr>\n",
       "  </tbody>\n",
       "</table>\n",
       "</div>"
      ],
      "text/plain": [
       "                       Date      Open      High       Low     Close  \\\n",
       "0 2010-06-29 00:00:00-04:00  1.266667  1.666667  1.169333  1.592667   \n",
       "1 2010-06-30 00:00:00-04:00  1.719333  2.028000  1.553333  1.588667   \n",
       "2 2010-07-01 00:00:00-04:00  1.666667  1.728000  1.351333  1.464000   \n",
       "3 2010-07-02 00:00:00-04:00  1.533333  1.540000  1.247333  1.280000   \n",
       "4 2010-07-06 00:00:00-04:00  1.333333  1.333333  1.055333  1.074000   \n",
       "\n",
       "      Volume  Dividends  Stock Splits  \n",
       "0  281494500        0.0           0.0  \n",
       "1  257806500        0.0           0.0  \n",
       "2  123282000        0.0           0.0  \n",
       "3   77097000        0.0           0.0  \n",
       "4  103003500        0.0           0.0  "
      ]
     },
     "execution_count": 33,
     "metadata": {},
     "output_type": "execute_result"
    }
   ],
   "source": [
    "tesla = yf.Ticker(\"TSLA\")\n",
    "tesla_data = tesla.history(period=\"max\")\n",
    "tesla_data.reset_index(inplace=True)\n",
    "tesla_data.head()"
   ]
  },
  {
   "cell_type": "markdown",
   "id": "e910eadf",
   "metadata": {},
   "source": [
    "# Question 2 - Extracting Tesla Revenue Data Using Webscraping - 1 Points"
   ]
  },
  {
   "cell_type": "code",
   "execution_count": 34,
   "id": "29722a9b",
   "metadata": {},
   "outputs": [],
   "source": [
    "url = \"https://cf-courses-data.s3.us.cloud-object-storage.appdomain.cloud/IBMDeveloperSkillsNetwork-PY0220EN-SkillsNetwork/labs/project/revenue.htm\"\n",
    "html_data = requests.get(url).text\n",
    "#Parse the html data using `beautiful_soup` using parser i.e `html5lib` or `html.parser`.\n",
    "soup_tesla = BeautifulSoup(html_data, 'html.parser')"
   ]
  },
  {
   "cell_type": "code",
   "execution_count": 82,
   "id": "15766430",
   "metadata": {},
   "outputs": [
    {
     "data": {
      "text/html": [
       "<div>\n",
       "<style scoped>\n",
       "    .dataframe tbody tr th:only-of-type {\n",
       "        vertical-align: middle;\n",
       "    }\n",
       "\n",
       "    .dataframe tbody tr th {\n",
       "        vertical-align: top;\n",
       "    }\n",
       "\n",
       "    .dataframe thead th {\n",
       "        text-align: right;\n",
       "    }\n",
       "</style>\n",
       "<table border=\"1\" class=\"dataframe\">\n",
       "  <thead>\n",
       "    <tr style=\"text-align: right;\">\n",
       "      <th></th>\n",
       "      <th>Tesla Annual Revenue (Millions of US $)</th>\n",
       "      <th>Tesla Annual Revenue (Millions of US $).1</th>\n",
       "    </tr>\n",
       "  </thead>\n",
       "  <tbody>\n",
       "    <tr>\n",
       "      <th>0</th>\n",
       "      <td>2021</td>\n",
       "      <td>$53,823</td>\n",
       "    </tr>\n",
       "    <tr>\n",
       "      <th>1</th>\n",
       "      <td>2020</td>\n",
       "      <td>$31,536</td>\n",
       "    </tr>\n",
       "    <tr>\n",
       "      <th>2</th>\n",
       "      <td>2019</td>\n",
       "      <td>$24,578</td>\n",
       "    </tr>\n",
       "  </tbody>\n",
       "</table>\n",
       "</div>"
      ],
      "text/plain": [
       "   Tesla Annual Revenue (Millions of US $)  \\\n",
       "0                                     2021   \n",
       "1                                     2020   \n",
       "2                                     2019   \n",
       "\n",
       "  Tesla Annual Revenue (Millions of US $).1  \n",
       "0                                   $53,823  \n",
       "1                                   $31,536  \n",
       "2                                   $24,578  "
      ]
     },
     "execution_count": 82,
     "metadata": {},
     "output_type": "execute_result"
    }
   ],
   "source": [
    "tesla_revenue = pd.read_html(str(soup_tesla))[0]\n",
    "tesla_revenue.head(3)"
   ]
  },
  {
   "cell_type": "code",
   "execution_count": 86,
   "id": "2b256194",
   "metadata": {},
   "outputs": [],
   "source": [
    "tesla_revenue.columns = ['Date', 'Revenue']\n",
    "# tesla_revenue.head(3)"
   ]
  },
  {
   "cell_type": "code",
   "execution_count": 85,
   "id": "d86ce45b",
   "metadata": {},
   "outputs": [],
   "source": [
    "tesla_revenue[\"Revenue\"] = tesla_revenue['Revenue'].str.replace(',|\\$',\"\",regex=True)\n",
    "# tesla_revenue.head(3)"
   ]
  },
  {
   "cell_type": "markdown",
   "id": "fdb59515",
   "metadata": {},
   "source": [
    "### Convert to integer"
   ]
  },
  {
   "cell_type": "code",
   "execution_count": 39,
   "id": "e659f92f",
   "metadata": {},
   "outputs": [],
   "source": [
    "tesla_revenue['Revenue'] = tesla_revenue['Revenue'].astype(\"int\")"
   ]
  },
  {
   "cell_type": "code",
   "execution_count": 90,
   "id": "68263e9f",
   "metadata": {},
   "outputs": [
    {
     "data": {
      "text/html": [
       "<div>\n",
       "<style scoped>\n",
       "    .dataframe tbody tr th:only-of-type {\n",
       "        vertical-align: middle;\n",
       "    }\n",
       "\n",
       "    .dataframe tbody tr th {\n",
       "        vertical-align: top;\n",
       "    }\n",
       "\n",
       "    .dataframe thead th {\n",
       "        text-align: right;\n",
       "    }\n",
       "</style>\n",
       "<table border=\"1\" class=\"dataframe\">\n",
       "  <thead>\n",
       "    <tr style=\"text-align: right;\">\n",
       "      <th></th>\n",
       "      <th>Date</th>\n",
       "      <th>Revenue</th>\n",
       "    </tr>\n",
       "  </thead>\n",
       "  <tbody>\n",
       "    <tr>\n",
       "      <th>0</th>\n",
       "      <td>2021</td>\n",
       "      <td>53823</td>\n",
       "    </tr>\n",
       "    <tr>\n",
       "      <th>1</th>\n",
       "      <td>2020</td>\n",
       "      <td>31536</td>\n",
       "    </tr>\n",
       "    <tr>\n",
       "      <th>2</th>\n",
       "      <td>2019</td>\n",
       "      <td>24578</td>\n",
       "    </tr>\n",
       "  </tbody>\n",
       "</table>\n",
       "</div>"
      ],
      "text/plain": [
       "   Date Revenue\n",
       "0  2021   53823\n",
       "1  2020   31536\n",
       "2  2019   24578"
      ]
     },
     "execution_count": 90,
     "metadata": {},
     "output_type": "execute_result"
    }
   ],
   "source": [
    "tesla_revenue.head(3)"
   ]
  },
  {
   "cell_type": "code",
   "execution_count": 40,
   "id": "1d7d46ee",
   "metadata": {
    "scrolled": true
   },
   "outputs": [
    {
     "name": "stdout",
     "output_type": "stream",
     "text": [
      "<class 'pandas.core.frame.DataFrame'>\n",
      "RangeIndex: 13 entries, 0 to 12\n",
      "Data columns (total 2 columns):\n",
      " #   Column   Non-Null Count  Dtype\n",
      "---  ------   --------------  -----\n",
      " 0   Date     13 non-null     int64\n",
      " 1   Revenue  13 non-null     int32\n",
      "dtypes: int32(1), int64(1)\n",
      "memory usage: 288.0 bytes\n"
     ]
    }
   ],
   "source": [
    "tesla_revenue.info()"
   ]
  },
  {
   "cell_type": "markdown",
   "id": "9549905c",
   "metadata": {},
   "source": [
    "# Question 3 - Extracting GameStop Stock Data Using yfinance - 2 Points\n"
   ]
  },
  {
   "cell_type": "code",
   "execution_count": 70,
   "id": "5065c119",
   "metadata": {},
   "outputs": [],
   "source": [
    "gs = yf.Ticker(\"GME\")"
   ]
  },
  {
   "cell_type": "code",
   "execution_count": 71,
   "id": "ce7bec01",
   "metadata": {},
   "outputs": [],
   "source": [
    "gs_data = gs.history(period=\"max\")\n"
   ]
  },
  {
   "cell_type": "code",
   "execution_count": 72,
   "id": "ac393c3c",
   "metadata": {},
   "outputs": [
    {
     "data": {
      "text/html": [
       "<div>\n",
       "<style scoped>\n",
       "    .dataframe tbody tr th:only-of-type {\n",
       "        vertical-align: middle;\n",
       "    }\n",
       "\n",
       "    .dataframe tbody tr th {\n",
       "        vertical-align: top;\n",
       "    }\n",
       "\n",
       "    .dataframe thead th {\n",
       "        text-align: right;\n",
       "    }\n",
       "</style>\n",
       "<table border=\"1\" class=\"dataframe\">\n",
       "  <thead>\n",
       "    <tr style=\"text-align: right;\">\n",
       "      <th></th>\n",
       "      <th>Date</th>\n",
       "      <th>Open</th>\n",
       "      <th>High</th>\n",
       "      <th>Low</th>\n",
       "      <th>Close</th>\n",
       "      <th>Volume</th>\n",
       "      <th>Dividends</th>\n",
       "      <th>Stock Splits</th>\n",
       "    </tr>\n",
       "  </thead>\n",
       "  <tbody>\n",
       "    <tr>\n",
       "      <th>0</th>\n",
       "      <td>2002-02-13 00:00:00-05:00</td>\n",
       "      <td>1.620129</td>\n",
       "      <td>1.693350</td>\n",
       "      <td>1.603296</td>\n",
       "      <td>1.691667</td>\n",
       "      <td>76216000</td>\n",
       "      <td>0.0</td>\n",
       "      <td>0.0</td>\n",
       "    </tr>\n",
       "    <tr>\n",
       "      <th>1</th>\n",
       "      <td>2002-02-14 00:00:00-05:00</td>\n",
       "      <td>1.712707</td>\n",
       "      <td>1.716073</td>\n",
       "      <td>1.670626</td>\n",
       "      <td>1.683250</td>\n",
       "      <td>11021600</td>\n",
       "      <td>0.0</td>\n",
       "      <td>0.0</td>\n",
       "    </tr>\n",
       "    <tr>\n",
       "      <th>2</th>\n",
       "      <td>2002-02-15 00:00:00-05:00</td>\n",
       "      <td>1.683250</td>\n",
       "      <td>1.687458</td>\n",
       "      <td>1.658001</td>\n",
       "      <td>1.674834</td>\n",
       "      <td>8389600</td>\n",
       "      <td>0.0</td>\n",
       "      <td>0.0</td>\n",
       "    </tr>\n",
       "    <tr>\n",
       "      <th>3</th>\n",
       "      <td>2002-02-19 00:00:00-05:00</td>\n",
       "      <td>1.666418</td>\n",
       "      <td>1.666418</td>\n",
       "      <td>1.578047</td>\n",
       "      <td>1.607504</td>\n",
       "      <td>7410400</td>\n",
       "      <td>0.0</td>\n",
       "      <td>0.0</td>\n",
       "    </tr>\n",
       "    <tr>\n",
       "      <th>4</th>\n",
       "      <td>2002-02-20 00:00:00-05:00</td>\n",
       "      <td>1.615920</td>\n",
       "      <td>1.662210</td>\n",
       "      <td>1.603296</td>\n",
       "      <td>1.662210</td>\n",
       "      <td>6892800</td>\n",
       "      <td>0.0</td>\n",
       "      <td>0.0</td>\n",
       "    </tr>\n",
       "  </tbody>\n",
       "</table>\n",
       "</div>"
      ],
      "text/plain": [
       "                       Date      Open      High       Low     Close    Volume  \\\n",
       "0 2002-02-13 00:00:00-05:00  1.620129  1.693350  1.603296  1.691667  76216000   \n",
       "1 2002-02-14 00:00:00-05:00  1.712707  1.716073  1.670626  1.683250  11021600   \n",
       "2 2002-02-15 00:00:00-05:00  1.683250  1.687458  1.658001  1.674834   8389600   \n",
       "3 2002-02-19 00:00:00-05:00  1.666418  1.666418  1.578047  1.607504   7410400   \n",
       "4 2002-02-20 00:00:00-05:00  1.615920  1.662210  1.603296  1.662210   6892800   \n",
       "\n",
       "   Dividends  Stock Splits  \n",
       "0        0.0           0.0  \n",
       "1        0.0           0.0  \n",
       "2        0.0           0.0  \n",
       "3        0.0           0.0  \n",
       "4        0.0           0.0  "
      ]
     },
     "execution_count": 72,
     "metadata": {},
     "output_type": "execute_result"
    }
   ],
   "source": [
    "gs_data.reset_index(inplace=True)\n",
    "gs_data.head()"
   ]
  },
  {
   "cell_type": "code",
   "execution_count": 73,
   "id": "6bbf0044",
   "metadata": {},
   "outputs": [
    {
     "data": {
      "text/html": [
       "<div>\n",
       "<style scoped>\n",
       "    .dataframe tbody tr th:only-of-type {\n",
       "        vertical-align: middle;\n",
       "    }\n",
       "\n",
       "    .dataframe tbody tr th {\n",
       "        vertical-align: top;\n",
       "    }\n",
       "\n",
       "    .dataframe thead th {\n",
       "        text-align: right;\n",
       "    }\n",
       "</style>\n",
       "<table border=\"1\" class=\"dataframe\">\n",
       "  <thead>\n",
       "    <tr style=\"text-align: right;\">\n",
       "      <th></th>\n",
       "      <th>Date</th>\n",
       "      <th>Open</th>\n",
       "      <th>High</th>\n",
       "      <th>Low</th>\n",
       "      <th>Close</th>\n",
       "      <th>Volume</th>\n",
       "      <th>Dividends</th>\n",
       "      <th>Stock Splits</th>\n",
       "    </tr>\n",
       "  </thead>\n",
       "  <tbody>\n",
       "    <tr>\n",
       "      <th>5900</th>\n",
       "      <td>2025-07-28 00:00:00-04:00</td>\n",
       "      <td>23.35</td>\n",
       "      <td>23.559999</td>\n",
       "      <td>22.950001</td>\n",
       "      <td>22.980000</td>\n",
       "      <td>11481900</td>\n",
       "      <td>0.0</td>\n",
       "      <td>0.0</td>\n",
       "    </tr>\n",
       "    <tr>\n",
       "      <th>5901</th>\n",
       "      <td>2025-07-29 00:00:00-04:00</td>\n",
       "      <td>23.01</td>\n",
       "      <td>23.040001</td>\n",
       "      <td>22.530001</td>\n",
       "      <td>22.549999</td>\n",
       "      <td>6078800</td>\n",
       "      <td>0.0</td>\n",
       "      <td>0.0</td>\n",
       "    </tr>\n",
       "    <tr>\n",
       "      <th>5902</th>\n",
       "      <td>2025-07-30 00:00:00-04:00</td>\n",
       "      <td>22.59</td>\n",
       "      <td>22.790001</td>\n",
       "      <td>22.270000</td>\n",
       "      <td>22.450001</td>\n",
       "      <td>7956600</td>\n",
       "      <td>0.0</td>\n",
       "      <td>0.0</td>\n",
       "    </tr>\n",
       "    <tr>\n",
       "      <th>5903</th>\n",
       "      <td>2025-07-31 00:00:00-04:00</td>\n",
       "      <td>22.35</td>\n",
       "      <td>23.340000</td>\n",
       "      <td>22.299999</td>\n",
       "      <td>22.450001</td>\n",
       "      <td>13749900</td>\n",
       "      <td>0.0</td>\n",
       "      <td>0.0</td>\n",
       "    </tr>\n",
       "    <tr>\n",
       "      <th>5904</th>\n",
       "      <td>2025-08-01 00:00:00-04:00</td>\n",
       "      <td>22.32</td>\n",
       "      <td>22.610001</td>\n",
       "      <td>21.920000</td>\n",
       "      <td>22.100000</td>\n",
       "      <td>7839500</td>\n",
       "      <td>0.0</td>\n",
       "      <td>0.0</td>\n",
       "    </tr>\n",
       "  </tbody>\n",
       "</table>\n",
       "</div>"
      ],
      "text/plain": [
       "                          Date   Open       High        Low      Close  \\\n",
       "5900 2025-07-28 00:00:00-04:00  23.35  23.559999  22.950001  22.980000   \n",
       "5901 2025-07-29 00:00:00-04:00  23.01  23.040001  22.530001  22.549999   \n",
       "5902 2025-07-30 00:00:00-04:00  22.59  22.790001  22.270000  22.450001   \n",
       "5903 2025-07-31 00:00:00-04:00  22.35  23.340000  22.299999  22.450001   \n",
       "5904 2025-08-01 00:00:00-04:00  22.32  22.610001  21.920000  22.100000   \n",
       "\n",
       "        Volume  Dividends  Stock Splits  \n",
       "5900  11481900        0.0           0.0  \n",
       "5901   6078800        0.0           0.0  \n",
       "5902   7956600        0.0           0.0  \n",
       "5903  13749900        0.0           0.0  \n",
       "5904   7839500        0.0           0.0  "
      ]
     },
     "execution_count": 73,
     "metadata": {},
     "output_type": "execute_result"
    }
   ],
   "source": [
    "gs_data.tail()\n"
   ]
  },
  {
   "cell_type": "markdown",
   "id": "353bb9f7",
   "metadata": {},
   "source": [
    "# Question 4 - Extracting GameStop Revenue Data Using Webscraping"
   ]
  },
  {
   "cell_type": "code",
   "execution_count": 74,
   "id": "15319412",
   "metadata": {},
   "outputs": [],
   "source": [
    "url_gs = \"https://cf-courses-data.s3.us.cloud-object-storage.appdomain.cloud/IBMDeveloperSkillsNetwork-PY0220EN-SkillsNetwork/labs/project/stock.html\"\n",
    "html_data = requests.get(url_gs).text\n",
    "\n",
    "soup_gs = BeautifulSoup(html_data, 'html.parser')"
   ]
  },
  {
   "cell_type": "code",
   "execution_count": 87,
   "id": "0d3d9323",
   "metadata": {},
   "outputs": [],
   "source": [
    "gs_revenue = pd.read_html(str(soup_gs))[0]\n",
    "# gs_revenue"
   ]
  },
  {
   "cell_type": "code",
   "execution_count": 88,
   "id": "6d9e74d3",
   "metadata": {},
   "outputs": [],
   "source": [
    "gs_revenue.columns = ['Date', 'Revenue']\n",
    "# gs_revenue"
   ]
  },
  {
   "cell_type": "code",
   "execution_count": 89,
   "id": "b0cb1533",
   "metadata": {},
   "outputs": [],
   "source": [
    "gs_revenue[\"Revenue\"] = gs_revenue['Revenue'].str.replace(',|\\$',\"\",regex=True)\n",
    "# gs_revenue"
   ]
  },
  {
   "cell_type": "markdown",
   "id": "06410f1b",
   "metadata": {},
   "source": [
    "### Convert to integer"
   ]
  },
  {
   "cell_type": "code",
   "execution_count": 79,
   "id": "52653a6c",
   "metadata": {},
   "outputs": [],
   "source": [
    "gs_revenue['Revenue'] = gs_revenue['Revenue'].astype(\"int\")"
   ]
  },
  {
   "cell_type": "code",
   "execution_count": 91,
   "id": "39985a50",
   "metadata": {},
   "outputs": [
    {
     "data": {
      "text/html": [
       "<div>\n",
       "<style scoped>\n",
       "    .dataframe tbody tr th:only-of-type {\n",
       "        vertical-align: middle;\n",
       "    }\n",
       "\n",
       "    .dataframe tbody tr th {\n",
       "        vertical-align: top;\n",
       "    }\n",
       "\n",
       "    .dataframe thead th {\n",
       "        text-align: right;\n",
       "    }\n",
       "</style>\n",
       "<table border=\"1\" class=\"dataframe\">\n",
       "  <thead>\n",
       "    <tr style=\"text-align: right;\">\n",
       "      <th></th>\n",
       "      <th>Date</th>\n",
       "      <th>Revenue</th>\n",
       "    </tr>\n",
       "  </thead>\n",
       "  <tbody>\n",
       "    <tr>\n",
       "      <th>0</th>\n",
       "      <td>2020</td>\n",
       "      <td>6466</td>\n",
       "    </tr>\n",
       "    <tr>\n",
       "      <th>1</th>\n",
       "      <td>2019</td>\n",
       "      <td>8285</td>\n",
       "    </tr>\n",
       "    <tr>\n",
       "      <th>2</th>\n",
       "      <td>2018</td>\n",
       "      <td>8547</td>\n",
       "    </tr>\n",
       "    <tr>\n",
       "      <th>3</th>\n",
       "      <td>2017</td>\n",
       "      <td>7965</td>\n",
       "    </tr>\n",
       "    <tr>\n",
       "      <th>4</th>\n",
       "      <td>2016</td>\n",
       "      <td>9364</td>\n",
       "    </tr>\n",
       "  </tbody>\n",
       "</table>\n",
       "</div>"
      ],
      "text/plain": [
       "   Date Revenue\n",
       "0  2020    6466\n",
       "1  2019    8285\n",
       "2  2018    8547\n",
       "3  2017    7965\n",
       "4  2016    9364"
      ]
     },
     "execution_count": 91,
     "metadata": {},
     "output_type": "execute_result"
    }
   ],
   "source": [
    "gs_revenue.head()"
   ]
  },
  {
   "cell_type": "code",
   "execution_count": 80,
   "id": "f6837a9f",
   "metadata": {
    "scrolled": true
   },
   "outputs": [
    {
     "name": "stdout",
     "output_type": "stream",
     "text": [
      "<class 'pandas.core.frame.DataFrame'>\n",
      "RangeIndex: 16 entries, 0 to 15\n",
      "Data columns (total 2 columns):\n",
      " #   Column   Non-Null Count  Dtype\n",
      "---  ------   --------------  -----\n",
      " 0   Date     16 non-null     int64\n",
      " 1   Revenue  16 non-null     int32\n",
      "dtypes: int32(1), int64(1)\n",
      "memory usage: 324.0 bytes\n"
     ]
    }
   ],
   "source": [
    "gs_revenue.info()"
   ]
  },
  {
   "cell_type": "markdown",
   "id": "2cd445d5",
   "metadata": {},
   "source": [
    "# Question 5 - Tesla Stock and Revenue Dashboard - 2 Points\n",
    "- First I created a function that I can use for both question 5 and question 6"
   ]
  },
  {
   "cell_type": "code",
   "execution_count": 66,
   "id": "66eb62bc",
   "metadata": {},
   "outputs": [],
   "source": [
    "def create_dashboard(stock_price, stock_revenue, stock_name):\n",
    "    \"\"\"\n",
    "    Creates a dashboard to visualize stock and revenue data.\n",
    "\n",
    "    Args:\n",
    "        stock_price (pd.DataFrame): DataFrame with stock data, must contain 'Date' and 'Close' columns.\n",
    "        stock_revenue (pd.DataFrame): DataFrame with revenue data, must contain 'Date' and 'Revenue' columns.\n",
    "        stock_name (str): The name of the stock for the title.\n",
    "    \"\"\"\n",
    "    # Create a figure with a secondary y-axis\n",
    "    fig = make_subplots(specs=[[{\"secondary_y\": True}]])\n",
    "    # Add Stock Price trace (Line Chart)\n",
    "    fig.add_trace(\n",
    "        go.Scatter(\n",
    "            x=stock_price['Date'],\n",
    "            y=stock_price['Close'],\n",
    "            name='Stock Closing Price',\n",
    "            line=dict(color='royalblue')   ),\n",
    "        secondary_y=False, )\n",
    "    # Add Revenue trace (Bar Chart)\n",
    "    fig.add_trace(\n",
    "        go.Bar(\n",
    "            x=stock_revenue['Date'],\n",
    "            y=stock_revenue['Revenue'],\n",
    "            name='Yearly Revenue',\n",
    "            marker=dict(color='rgba(255, 127, 140, 0.6)') ), # Orange with some transparency \n",
    "        secondary_y=True,)\n",
    "    # Set titles and labels\n",
    "    fig.update_layout(\n",
    "        title_text= f'{stock_name} Stock Price vs. Yearly Revenue',\n",
    "        title_x=0.5,\n",
    "        legend=dict(x=0.01, y=0.99, bordercolor='black', borderwidth=1) )\n",
    "\n",
    "    # Set x-axis title\n",
    "    fig.update_xaxes(title_text='Date')\n",
    "\n",
    "    # Set y-axes titles\n",
    "    fig.update_yaxes(\n",
    "        title_text='<b>Primary:</b> Stock Closing Price ($US)',\n",
    "        secondary_y=False,color='royalblue' )\n",
    "    fig.update_yaxes(\n",
    "        title_text='<b>Secondary:</b> Yearly Revenue ($US Millions)',\n",
    "        secondary_y=True,  color='rgba(255, 127, 140, 1)' )\n",
    "    fig.show()"
   ]
  },
  {
   "cell_type": "code",
   "execution_count": 69,
   "id": "b6c45765",
   "metadata": {},
   "outputs": [
    {
     "data": {
      "text/html": [
       "<iframe\n",
       "    scrolling=\"no\"\n",
       "    width=\"100%\"\n",
       "    height=\"545px\"\n",
       "    src=\"iframe_figures/figure_69.html\"\n",
       "    frameborder=\"0\"\n",
       "    allowfullscreen\n",
       "></iframe>\n"
      ]
     },
     "metadata": {},
     "output_type": "display_data"
    }
   ],
   "source": [
    "create_dashboard(tesla_data, tesla_revenue, \"Tesla\")"
   ]
  },
  {
   "cell_type": "markdown",
   "id": "eadca1f7",
   "metadata": {},
   "source": [
    "# Question 6 - GameStop Stock and Revenue Dashboard- 2 Points"
   ]
  },
  {
   "cell_type": "code",
   "execution_count": 81,
   "id": "59b7d290",
   "metadata": {},
   "outputs": [
    {
     "data": {
      "text/html": [
       "<iframe\n",
       "    scrolling=\"no\"\n",
       "    width=\"100%\"\n",
       "    height=\"545px\"\n",
       "    src=\"iframe_figures/figure_81.html\"\n",
       "    frameborder=\"0\"\n",
       "    allowfullscreen\n",
       "></iframe>\n"
      ]
     },
     "metadata": {},
     "output_type": "display_data"
    }
   ],
   "source": [
    "create_dashboard(gs_data, gs_revenue, \"GameStop\")"
   ]
  },
  {
   "cell_type": "markdown",
   "id": "5626fcd2",
   "metadata": {},
   "source": [
    "# Question 7 - Sharing your Assignment Notebook - 2 Points\n",
    "\n"
   ]
  },
  {
   "cell_type": "markdown",
   "id": "37151c8e",
   "metadata": {},
   "source": []
  }
 ],
 "metadata": {
  "kernelspec": {
   "display_name": "Python 3 (ipykernel)",
   "language": "python",
   "name": "python3"
  },
  "language_info": {
   "codemirror_mode": {
    "name": "ipython",
    "version": 3
   },
   "file_extension": ".py",
   "mimetype": "text/x-python",
   "name": "python",
   "nbconvert_exporter": "python",
   "pygments_lexer": "ipython3",
   "version": "3.11.5"
  }
 },
 "nbformat": 4,
 "nbformat_minor": 5
}
